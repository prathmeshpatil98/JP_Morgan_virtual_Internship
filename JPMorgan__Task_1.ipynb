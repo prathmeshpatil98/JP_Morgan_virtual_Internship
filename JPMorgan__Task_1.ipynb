{
  "nbformat": 4,
  "nbformat_minor": 0,
  "metadata": {
    "colab": {
      "provenance": [],
      "authorship_tag": "ABX9TyOSmK4c33oL4vD/K64nn7Zj",
      "include_colab_link": true
    },
    "kernelspec": {
      "name": "python3",
      "display_name": "Python 3"
    },
    "language_info": {
      "name": "python"
    }
  },
  "cells": [
    {
      "cell_type": "markdown",
      "metadata": {
        "id": "view-in-github",
        "colab_type": "text"
      },
      "source": [
        "<a href=\"https://colab.research.google.com/github/prathmeshpatil98/JP_Morgan_virtual_Internship/blob/main/JPMorgan__Task_1.ipynb\" target=\"_parent\"><img src=\"https://colab.research.google.com/assets/colab-badge.svg\" alt=\"Open In Colab\"/></a>"
      ]
    },
    {
      "cell_type": "code",
      "execution_count": null,
      "metadata": {
        "colab": {
          "base_uri": "https://localhost:8080/"
        },
        "id": "U6JtbarozTJk",
        "outputId": "22fd29ae-2ff8-484e-b019-37d175deb204"
      },
      "outputs": [
        {
          "output_type": "stream",
          "name": "stdout",
          "text": [
            "I'm a car!\n"
          ]
        }
      ],
      "source": [
        "class Car:\n",
        "\n",
        "    def __init__(self, speed=0):\n",
        "        self.speed = speed\n",
        "        self.odometer = 0\n",
        "        self.time = 0\n",
        "\n",
        "    def say_state(self):\n",
        "        print(\"I'm going {} kph!\".format(self.speed))\n",
        "\n",
        "    def accelerate(self):\n",
        "        self.speed += 5\n",
        "\n",
        "    def brake(self):\n",
        "        if self.speed < 5:\n",
        "            self.speed = 0\n",
        "        else:\n",
        "            self.speed -= 5\n",
        "\n",
        "    def step(self):\n",
        "        self.odometer += self.speed\n",
        "        self.time += 1\n",
        "\n",
        "    def average_speed(self):\n",
        "        if self.time != 0:\n",
        "            return self.odometer / self.time\n",
        "        else:\n",
        "            pass\n",
        "\n",
        "\n",
        "if __name__ == '__main__':\n",
        "\n",
        "    my_car = Car()\n",
        "    print(\"I'm a car!\")\n",
        "    while True:\n",
        "        action = input(\"What should I do? [A]ccelerate, [B]rake, \"\n",
        "                 \"show [O]dometer, or show average [S]peed?\").upper()\n",
        "        if action not in \"ABOS\" or len(action) != 1:\n",
        "            print(\"I don't know how to do that\")\n",
        "            continue\n",
        "        if action == 'A':\n",
        "            my_car.accelerate()\n",
        "        elif action == 'B':\n",
        "            my_car.brake()\n",
        "        elif action == 'O':\n",
        "            print(\"The car has driven {} kilometers\".format(my_car.odometer))\n",
        "        elif action == 'S':\n",
        "            print(\"The car's average speed was {} kph\".format(my_car.average_speed()))\n",
        "        my_car.step()\n",
        "        my_car.say_state()\n"
      ]
    },
    {
      "cell_type": "code",
      "source": [],
      "metadata": {
        "id": "7v50E9AFzdEd"
      },
      "execution_count": null,
      "outputs": []
    }
  ]
}